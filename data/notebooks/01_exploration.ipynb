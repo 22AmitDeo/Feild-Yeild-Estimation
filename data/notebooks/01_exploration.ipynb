{
 "cells": [
  {
   "cell_type": "code",
   "execution_count": 3,
   "metadata": {},
   "outputs": [],
   "source": [
    "import pandas as pd\n",
    "import numpy as np\n",
    "import matplotlib.pyplot as plt\n",
    "import seaborn as sns"
   ]
  },
  {
   "cell_type": "code",
   "execution_count": 4,
   "metadata": {},
   "outputs": [],
   "source": [
    "#Setting sns plotting \n",
    "sns.set(style=\"whitegrid\", palette=\"muted\", font_scale=1.2)"
   ]
  },
  {
   "cell_type": "code",
   "execution_count": 11,
   "metadata": {},
   "outputs": [],
   "source": [
    "#data loading\n",
    "data_path = \"../raw/train.csv\"\n",
    "df = pd.read_csv(data_path)"
   ]
  },
  {
   "cell_type": "code",
   "execution_count": 12,
   "metadata": {},
   "outputs": [
    {
     "name": "stdout",
     "output_type": "stream",
     "text": [
      "Shape of dataset: (10000, 9)\n"
     ]
    },
    {
     "data": {
      "text/html": [
       "<div>\n",
       "<style scoped>\n",
       "    .dataframe tbody tr th:only-of-type {\n",
       "        vertical-align: middle;\n",
       "    }\n",
       "\n",
       "    .dataframe tbody tr th {\n",
       "        vertical-align: top;\n",
       "    }\n",
       "\n",
       "    .dataframe thead th {\n",
       "        text-align: right;\n",
       "    }\n",
       "</style>\n",
       "<table border=\"1\" class=\"dataframe\">\n",
       "  <thead>\n",
       "    <tr style=\"text-align: right;\">\n",
       "      <th></th>\n",
       "      <th>field_id</th>\n",
       "      <th>soil_ph</th>\n",
       "      <th>organic_matter</th>\n",
       "      <th>sand_pct</th>\n",
       "      <th>temperature</th>\n",
       "      <th>humidity</th>\n",
       "      <th>rainfall</th>\n",
       "      <th>ndvi</th>\n",
       "      <th>yield</th>\n",
       "    </tr>\n",
       "  </thead>\n",
       "  <tbody>\n",
       "    <tr>\n",
       "      <th>0</th>\n",
       "      <td>F00001</td>\n",
       "      <td>6.25</td>\n",
       "      <td>2.66</td>\n",
       "      <td>41.6</td>\n",
       "      <td>25.2</td>\n",
       "      <td>70</td>\n",
       "      <td>110.2</td>\n",
       "      <td>0.46</td>\n",
       "      <td>4105.8</td>\n",
       "    </tr>\n",
       "    <tr>\n",
       "      <th>1</th>\n",
       "      <td>F00002</td>\n",
       "      <td>6.70</td>\n",
       "      <td>3.66</td>\n",
       "      <td>40.2</td>\n",
       "      <td>26.9</td>\n",
       "      <td>78</td>\n",
       "      <td>126.3</td>\n",
       "      <td>0.59</td>\n",
       "      <td>4247.8</td>\n",
       "    </tr>\n",
       "    <tr>\n",
       "      <th>2</th>\n",
       "      <td>F00003</td>\n",
       "      <td>7.21</td>\n",
       "      <td>3.45</td>\n",
       "      <td>40.0</td>\n",
       "      <td>27.6</td>\n",
       "      <td>66</td>\n",
       "      <td>109.4</td>\n",
       "      <td>0.64</td>\n",
       "      <td>4021.8</td>\n",
       "    </tr>\n",
       "    <tr>\n",
       "      <th>3</th>\n",
       "      <td>F00004</td>\n",
       "      <td>5.73</td>\n",
       "      <td>2.48</td>\n",
       "      <td>56.9</td>\n",
       "      <td>29.6</td>\n",
       "      <td>79</td>\n",
       "      <td>155.3</td>\n",
       "      <td>0.62</td>\n",
       "      <td>4326.8</td>\n",
       "    </tr>\n",
       "    <tr>\n",
       "      <th>4</th>\n",
       "      <td>F00005</td>\n",
       "      <td>6.88</td>\n",
       "      <td>3.61</td>\n",
       "      <td>30.6</td>\n",
       "      <td>25.0</td>\n",
       "      <td>80</td>\n",
       "      <td>172.6</td>\n",
       "      <td>0.62</td>\n",
       "      <td>3708.0</td>\n",
       "    </tr>\n",
       "  </tbody>\n",
       "</table>\n",
       "</div>"
      ],
      "text/plain": [
       "  field_id  soil_ph  organic_matter  sand_pct  temperature  humidity  \\\n",
       "0   F00001     6.25            2.66      41.6         25.2        70   \n",
       "1   F00002     6.70            3.66      40.2         26.9        78   \n",
       "2   F00003     7.21            3.45      40.0         27.6        66   \n",
       "3   F00004     5.73            2.48      56.9         29.6        79   \n",
       "4   F00005     6.88            3.61      30.6         25.0        80   \n",
       "\n",
       "   rainfall  ndvi   yield  \n",
       "0     110.2  0.46  4105.8  \n",
       "1     126.3  0.59  4247.8  \n",
       "2     109.4  0.64  4021.8  \n",
       "3     155.3  0.62  4326.8  \n",
       "4     172.6  0.62  3708.0  "
      ]
     },
     "execution_count": 12,
     "metadata": {},
     "output_type": "execute_result"
    }
   ],
   "source": [
    "#quick peek\n",
    "print(\"Shape of dataset:\", df.shape)\n",
    "df.head()"
   ]
  }
 ],
 "metadata": {
  "kernelspec": {
   "display_name": ".venv",
   "language": "python",
   "name": "python3"
  },
  "language_info": {
   "codemirror_mode": {
    "name": "ipython",
    "version": 3
   },
   "file_extension": ".py",
   "mimetype": "text/x-python",
   "name": "python",
   "nbconvert_exporter": "python",
   "pygments_lexer": "ipython3",
   "version": "3.12.6"
  }
 },
 "nbformat": 4,
 "nbformat_minor": 2
}
